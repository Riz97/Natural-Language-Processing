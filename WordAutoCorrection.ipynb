{
 "cells": [
  {
   "cell_type": "markdown",
   "id": "367ba310-ab5e-4327-a2af-06da85503dad",
   "metadata": {},
   "source": [
    "# Natural Language Processing Project \n",
    "\n",
    "# Word AutoCorrection from scratch \n",
    "\n",
    "# Riccardo Caprile 4370774"
   ]
  },
  {
   "cell_type": "code",
   "execution_count": 32,
   "id": "1237ee74-a244-45b4-a3c8-6cff9a218666",
   "metadata": {},
   "outputs": [],
   "source": [
    "import numpy as np\n",
    "import re\n",
    "import pandas as pd\n",
    "from collections import Counter"
   ]
  },
  {
   "cell_type": "markdown",
   "id": "50ae5327-6905-46a9-bb65-b0e03987a186",
   "metadata": {},
   "source": [
    " "
   ]
  },
  {
   "cell_type": "code",
   "execution_count": 45,
   "id": "7c20faea-ffa4-4696-bf2f-6369714ec1b8",
   "metadata": {},
   "outputs": [],
   "source": [
    "def text_file_processing(file):\n",
    "    words = []\n",
    "    with open (\"The_Hunger_Games.txt\", \"r\") as file:\n",
    "        file_name_data = file.read()\n",
    "        file_name_data_lower = file_name_data.lower()\n",
    "        words = re.findall(\"\\w+\",file_name_data_lower)\n",
    "    return words"
   ]
  },
  {
   "cell_type": "code",
   "execution_count": 48,
   "id": "11bf41ac-ed8b-471d-976a-b78fe257a7d7",
   "metadata": {},
   "outputs": [
    {
     "name": "stdout",
     "output_type": "stream",
     "text": [
      "-----Test print----\n",
      "First  20 words :   ['when', 'i', 'wake', 'up', 'the', 'other', 'side', 'of', 'the', 'bed', 'is', 'cold', 'my', 'fingers', 'stretch', 'out', 'seeking', 'prims', 'warmth', 'but']\n",
      "First 20 unique words :  ['abernathy', 'disturb', 'mutilate', 'chunky', 'counting', 'dissonant', 'press', 'flaming', 'sheet', 'unprepared', 'walls', 'minor', 'gym', 'unpaid', 'pulse', 'with', 'teasingly', 'curl', 'naked', 'patch']\n",
      "7603\n"
     ]
    }
   ],
   "source": [
    "list_words = text_file_processing(\"The_Hunger_Games.txt\") #Contains all the words of the text\n",
    "list_words.remove(\"ï\")\n",
    "\n",
    "vocabulary = set(list_words) #Contains all the unique worlds\n",
    "\n",
    "\n",
    "print(\"-----TEST PRINT----\")\n",
    "print(\"First  20 words :  \" , list_words[0:20]) \n",
    "\n",
    "\n",
    "\n",
    "print(\"First 20 unique words : \" , list(vocabulary)[0:20])\n",
    "print(len(vocabulary))"
   ]
  },
  {
   "cell_type": "code",
   "execution_count": 49,
   "id": "d58d74ac-8a91-4620-bf4e-75c34fa96afb",
   "metadata": {},
   "outputs": [],
   "source": [
    "def count_words(list_words):\n",
    "    \n",
    "    word_count = {}\n",
    "    word_count = Counter(list_words)\n",
    "    \n",
    "    return word_count"
   ]
  },
  {
   "cell_type": "code",
   "execution_count": 66,
   "id": "a717954f-a904-48ae-a3c1-f2323d5bfe30",
   "metadata": {},
   "outputs": [
    {
     "name": "stdout",
     "output_type": "stream",
     "text": [
      "-------TEST PRINT--------\n",
      "Top 20 present words are:  [('the', 5649), ('i', 3785), ('to', 2754), ('and', 2424), ('a', 2152), ('of', 1936), ('my', 1632), ('in', 1489), ('it', 1016), ('me', 936), ('but', 925), ('that', 831), ('on', 775), ('he', 775), ('for', 726), ('you', 712), ('is', 685), ('with', 634), ('have', 596), ('as', 591)]\n",
      "There are 7603  keys\n"
     ]
    }
   ],
   "source": [
    "dictionary_count = count_words(list_words)\n",
    "\n",
    "print(\"-------TEST PRINT--------\")\n",
    "\n",
    "print(\"Top 20 present words are: \", Counter(dictionary_count).most_common(20))\n",
    "print(\"There are\" ,len(dictionary_count),\" keys\")"
   ]
  },
  {
   "cell_type": "code",
   "execution_count": null,
   "id": "eaac03c2-645b-4661-9352-69150c541326",
   "metadata": {},
   "outputs": [],
   "source": []
  }
 ],
 "metadata": {
  "kernelspec": {
   "display_name": "Python 3 (ipykernel)",
   "language": "python",
   "name": "python3"
  },
  "language_info": {
   "codemirror_mode": {
    "name": "ipython",
    "version": 3
   },
   "file_extension": ".py",
   "mimetype": "text/x-python",
   "name": "python",
   "nbconvert_exporter": "python",
   "pygments_lexer": "ipython3",
   "version": "3.9.12"
  },
  "widgets": {
   "application/vnd.jupyter.widget-state+json": {
    "state": {},
    "version_major": 2,
    "version_minor": 0
   }
  }
 },
 "nbformat": 4,
 "nbformat_minor": 5
}
